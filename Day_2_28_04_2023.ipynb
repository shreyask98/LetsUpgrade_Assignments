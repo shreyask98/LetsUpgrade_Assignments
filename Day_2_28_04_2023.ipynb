{
 "cells": [
  {
   "cell_type": "markdown",
   "id": "f3b36aa8",
   "metadata": {},
   "source": [
    "### Write a Python program that defines a function to check whether a given number is even or odd. Call the function to check whether a user inputted number is even or odd, and print the result to the user."
   ]
  },
  {
   "cell_type": "code",
   "execution_count": 1,
   "id": "ea57fae1",
   "metadata": {},
   "outputs": [
    {
     "name": "stdout",
     "output_type": "stream",
     "text": [
      "Enter a number: 54\n",
      "54 is even.\n"
     ]
    }
   ],
   "source": [
    "def check_even_odd(num):\n",
    "    if num % 2 == 0:\n",
    "        print(num, \"is even.\")\n",
    "    else:\n",
    "        print(num, \"is odd.\")\n",
    "\n",
    "user_num = int(input(\"Enter a number: \"))\n",
    "check_even_odd(user_num)\n"
   ]
  },
  {
   "cell_type": "code",
   "execution_count": null,
   "id": "f3acbbe1",
   "metadata": {},
   "outputs": [],
   "source": []
  }
 ],
 "metadata": {
  "kernelspec": {
   "display_name": "Python 3 (ipykernel)",
   "language": "python",
   "name": "python3"
  },
  "language_info": {
   "codemirror_mode": {
    "name": "ipython",
    "version": 3
   },
   "file_extension": ".py",
   "mimetype": "text/x-python",
   "name": "python",
   "nbconvert_exporter": "python",
   "pygments_lexer": "ipython3",
   "version": "3.8.13"
  }
 },
 "nbformat": 4,
 "nbformat_minor": 5
}
