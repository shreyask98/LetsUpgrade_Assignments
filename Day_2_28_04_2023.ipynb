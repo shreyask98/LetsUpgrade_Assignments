{
 "cells": [
  {
   "cell_type": "markdown",
   "id": "bbd7dd2d",
   "metadata": {},
   "source": [
    "### Problem: Write a Python program that defines a function to check whether a given number is even or odd. Call the function to check whether a user inputted number is even or odd, and print the result to the user."
   ]
  },
  {
   "cell_type": "code",
   "execution_count": null,
   "id": "32a8cfdb",
   "metadata": {},
   "outputs": [],
   "source": [
    "def check_even_odd(num):\n",
    "    \"\"\"\n",
    "    A function to check whether a number is even or odd.\n",
    "    Returns 'even' if the number is even, 'odd' if the number is odd.\n",
    "    \"\"\"\n",
    "    if num % 2 == 0:\n",
    "        return 'even'\n",
    "    else:\n",
    "        return 'odd'\n",
    "\n",
    "# Take input from user\n",
    "num = int(input(\"Enter a number: \"))\n",
    "\n",
    "# Call the function and print the result\n",
    "result = check_even_odd(num)\n",
    "print(f\"The number {num} is {result}.\")\n"
   ]
  },
  {
   "cell_type": "markdown",
   "id": "4b837c96",
   "metadata": {},
   "source": [
    "1. In this code, we define a function check_even_odd that takes in a number as an argument and checks whether it's even or odd using the modulus operator (%). If the remainder of the number divided by 2 is 0, then it's even, otherwise it's odd.\n",
    "\n",
    "2. Then we take input from the user using the input() function and convert it to an integer using int().\n",
    "3. We call the check_even_odd function with the user input as an argument, and store the result in a variable result. \n",
    "4. Finally, we print out a message to the user indicating whether the number is even or odd, using an f-string to format the message with the user input and the result of the check_even_odd function."
   ]
  },
  {
   "cell_type": "code",
   "execution_count": null,
   "id": "383c3e46",
   "metadata": {},
   "outputs": [],
   "source": []
  }
 ],
 "metadata": {
  "kernelspec": {
   "display_name": "Python 3 (ipykernel)",
   "language": "python",
   "name": "python3"
  },
  "language_info": {
   "codemirror_mode": {
    "name": "ipython",
    "version": 3
   },
   "file_extension": ".py",
   "mimetype": "text/x-python",
   "name": "python",
   "nbconvert_exporter": "python",
   "pygments_lexer": "ipython3",
   "version": "3.8.13"
  }
 },
 "nbformat": 4,
 "nbformat_minor": 5
}
